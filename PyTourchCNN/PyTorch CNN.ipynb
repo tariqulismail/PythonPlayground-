{
 "cells": [
  {
   "cell_type": "markdown",
   "id": "e671772e-6fb1-4299-bd1a-6f3954f3a200",
   "metadata": {},
   "source": [
    "# ****Implementing a Convolutional Neural Network using Pytorch:****"
   ]
  },
  {
   "cell_type": "markdown",
   "id": "5d8245bd-3bb1-44fa-9806-387d2dff3fb4",
   "metadata": {},
   "source": [
    "## The good thing about PyTorch is that we do not have to hardcode all the convolution layers, nor do we have to implement the activation functions ourselves. PyTorch has some libraries that can be used for these tasks, as seen in the code example below."
   ]
  },
  {
   "cell_type": "markdown",
   "id": "1745e575-2a07-4427-be57-61f11100feb6",
   "metadata": {},
   "source": [
    "### The MNIST Dataset:\n",
    "The MNIST dataset contains images of handwritten numbers from 0 to 9, making a total of 10 categories. Furthermore, it consists of all possible ways a person can write these numbers. Therefore, we can train our model using the MNIST dataset to identify handwritten numbers."
   ]
  },
  {
   "cell_type": "markdown",
   "id": "f92086bc-f7be-492c-927b-74534a9956a0",
   "metadata": {},
   "source": [
    "### Importing the required libraries:\n",
    "Firstly, we will import all the libraries which we may need for our model."
   ]
  },
  {
   "cell_type": "code",
   "execution_count": 5,
   "id": "a0a5670a-7829-4a4b-a894-6043318d824c",
   "metadata": {},
   "outputs": [],
   "source": [
    "import torch\n",
    "import torchvision\n",
    "import torch.nn as nn\n",
    "import torch.optim as optim\n",
    "from torchvision import transforms,datasets\n",
    "import torch.nn.functional as F\n",
    "import matplotlib\n",
    "import matplotlib.pyplot as plt"
   ]
  },
  {
   "cell_type": "markdown",
   "id": "9de34eaa-f2ca-4bad-97b2-a7f437891461",
   "metadata": {},
   "source": [
    "### Loading the data:"
   ]
  },
  {
   "cell_type": "code",
   "execution_count": 6,
   "id": "fd98857f-b0d0-422f-bf49-47d74c070743",
   "metadata": {},
   "outputs": [
    {
     "name": "stdout",
     "output_type": "stream",
     "text": [
      "Downloading http://yann.lecun.com/exdb/mnist/train-images-idx3-ubyte.gz\n",
      "Failed to download (trying next):\n",
      "<urlopen error [SSL: CERTIFICATE_VERIFY_FAILED] certificate verify failed: certificate has expired (_ssl.c:1000)>\n",
      "\n",
      "Downloading https://ossci-datasets.s3.amazonaws.com/mnist/train-images-idx3-ubyte.gz\n",
      "Downloading https://ossci-datasets.s3.amazonaws.com/mnist/train-images-idx3-ubyte.gz to MNIST\\raw\\train-images-idx3-ubyte.gz\n"
     ]
    },
    {
     "name": "stderr",
     "output_type": "stream",
     "text": [
      "100%|████████████████████████████████████████████████████████████████████████████| 9.91M/9.91M [00:09<00:00, 1.01MB/s]\n"
     ]
    },
    {
     "name": "stdout",
     "output_type": "stream",
     "text": [
      "Extracting MNIST\\raw\\train-images-idx3-ubyte.gz to MNIST\\raw\n",
      "\n",
      "Downloading http://yann.lecun.com/exdb/mnist/train-labels-idx1-ubyte.gz\n",
      "Failed to download (trying next):\n",
      "<urlopen error [SSL: CERTIFICATE_VERIFY_FAILED] certificate verify failed: certificate has expired (_ssl.c:1000)>\n",
      "\n",
      "Downloading https://ossci-datasets.s3.amazonaws.com/mnist/train-labels-idx1-ubyte.gz\n",
      "Downloading https://ossci-datasets.s3.amazonaws.com/mnist/train-labels-idx1-ubyte.gz to MNIST\\raw\\train-labels-idx1-ubyte.gz\n"
     ]
    },
    {
     "name": "stderr",
     "output_type": "stream",
     "text": [
      "100%|█████████████████████████████████████████████████████████████████████████████| 28.9k/28.9k [00:00<00:00, 108kB/s]\n"
     ]
    },
    {
     "name": "stdout",
     "output_type": "stream",
     "text": [
      "Extracting MNIST\\raw\\train-labels-idx1-ubyte.gz to MNIST\\raw\n",
      "\n",
      "Downloading http://yann.lecun.com/exdb/mnist/t10k-images-idx3-ubyte.gz\n",
      "Failed to download (trying next):\n",
      "<urlopen error [SSL: CERTIFICATE_VERIFY_FAILED] certificate verify failed: certificate has expired (_ssl.c:1000)>\n",
      "\n",
      "Downloading https://ossci-datasets.s3.amazonaws.com/mnist/t10k-images-idx3-ubyte.gz\n",
      "Downloading https://ossci-datasets.s3.amazonaws.com/mnist/t10k-images-idx3-ubyte.gz to MNIST\\raw\\t10k-images-idx3-ubyte.gz\n"
     ]
    },
    {
     "name": "stderr",
     "output_type": "stream",
     "text": [
      "100%|█████████████████████████████████████████████████████████████████████████████| 1.65M/1.65M [00:03<00:00, 439kB/s]\n"
     ]
    },
    {
     "name": "stdout",
     "output_type": "stream",
     "text": [
      "Extracting MNIST\\raw\\t10k-images-idx3-ubyte.gz to MNIST\\raw\n",
      "\n",
      "Downloading http://yann.lecun.com/exdb/mnist/t10k-labels-idx1-ubyte.gz\n",
      "Failed to download (trying next):\n",
      "<urlopen error [SSL: CERTIFICATE_VERIFY_FAILED] certificate verify failed: certificate has expired (_ssl.c:1000)>\n",
      "\n",
      "Downloading https://ossci-datasets.s3.amazonaws.com/mnist/t10k-labels-idx1-ubyte.gz\n",
      "Downloading https://ossci-datasets.s3.amazonaws.com/mnist/t10k-labels-idx1-ubyte.gz to MNIST\\raw\\t10k-labels-idx1-ubyte.gz\n"
     ]
    },
    {
     "name": "stderr",
     "output_type": "stream",
     "text": [
      "100%|████████████████████████████████████████████████████████████████████████████| 4.54k/4.54k [00:00<00:00, 1.14MB/s]\n"
     ]
    },
    {
     "name": "stdout",
     "output_type": "stream",
     "text": [
      "Extracting MNIST\\raw\\t10k-labels-idx1-ubyte.gz to MNIST\\raw\n",
      "\n"
     ]
    }
   ],
   "source": [
    "train=datasets.MNIST(\"\", train=True,download=True,transform=transforms.Compose([transforms.ToTensor()]))\n",
    "test=datasets.MNIST(\"\", train=False,download=True,transform=transforms.Compose([transforms.ToTensor()]))\n",
    "\n",
    "trainset=torch.utils.data.DataLoader(train,batch_size=64,shuffle=True)\n",
    "testset=torch.utils.data.DataLoader(test,batch_size=64,shuffle=True)"
   ]
  },
  {
   "cell_type": "markdown",
   "id": "703455ea-aa8d-4850-b684-8374f1870db3",
   "metadata": {},
   "source": [
    "### Playing around with the loaded data:"
   ]
  },
  {
   "cell_type": "code",
   "execution_count": 7,
   "id": "8a13a808-6609-43b2-b24a-cbe73877ff08",
   "metadata": {},
   "outputs": [
    {
     "name": "stdout",
     "output_type": "stream",
     "text": [
      "0\n",
      "5\n",
      "6\n",
      "0\n",
      "7\n"
     ]
    }
   ],
   "source": [
    "for i in range(5):\n",
    "    print(train[34+i][1])"
   ]
  },
  {
   "cell_type": "code",
   "execution_count": 8,
   "id": "fbb5fdc1-bdb2-48d0-a70d-88ab4385aa9a",
   "metadata": {},
   "outputs": [
    {
     "name": "stdout",
     "output_type": "stream",
     "text": [
      "tensor([[[0.0000, 0.0000, 0.0000, 0.0000, 0.0000, 0.0000, 0.0000, 0.0000,\n",
      "          0.0000, 0.0000, 0.0000, 0.0000, 0.0000, 0.0000, 0.0000, 0.0000,\n",
      "          0.0000, 0.0000, 0.0000, 0.0000, 0.0000, 0.0000, 0.0000, 0.0000,\n",
      "          0.0000, 0.0000, 0.0000, 0.0000],\n",
      "         [0.0000, 0.0000, 0.0000, 0.0000, 0.0000, 0.0000, 0.0000, 0.0000,\n",
      "          0.0000, 0.0000, 0.0000, 0.0000, 0.0000, 0.0000, 0.0000, 0.0000,\n",
      "          0.0000, 0.0000, 0.0000, 0.0000, 0.0000, 0.0000, 0.0000, 0.0000,\n",
      "          0.0000, 0.0000, 0.0000, 0.0000],\n",
      "         [0.0000, 0.0000, 0.0000, 0.0000, 0.0000, 0.0000, 0.0000, 0.0000,\n",
      "          0.0000, 0.0000, 0.0000, 0.0000, 0.0000, 0.0000, 0.0000, 0.0000,\n",
      "          0.0000, 0.0000, 0.0000, 0.0000, 0.0000, 0.0000, 0.0000, 0.0000,\n",
      "          0.0000, 0.0000, 0.0000, 0.0000],\n",
      "         [0.0000, 0.0000, 0.0000, 0.0000, 0.0000, 0.0000, 0.0000, 0.0000,\n",
      "          0.0000, 0.0000, 0.0000, 0.0000, 0.0000, 0.0000, 0.0000, 0.0000,\n",
      "          0.0000, 0.0000, 0.0000, 0.0000, 0.0000, 0.0000, 0.0000, 0.0000,\n",
      "          0.0000, 0.0000, 0.0000, 0.0000],\n",
      "         [0.0000, 0.0000, 0.0000, 0.0000, 0.0000, 0.0000, 0.0000, 0.0000,\n",
      "          0.0000, 0.0000, 0.0000, 0.0000, 0.0000, 0.0000, 0.0000, 0.0000,\n",
      "          0.0000, 0.0000, 0.0000, 0.0000, 0.0000, 0.0000, 0.0000, 0.0000,\n",
      "          0.0000, 0.0000, 0.0000, 0.0000],\n",
      "         [0.0000, 0.0000, 0.0000, 0.0471, 0.3882, 0.3569, 0.5569, 0.6078,\n",
      "          0.9647, 0.7137, 0.6078, 0.6078, 0.6078, 0.6078, 0.5137, 0.2039,\n",
      "          0.0000, 0.0000, 0.0000, 0.0000, 0.0000, 0.0000, 0.0000, 0.0000,\n",
      "          0.0000, 0.0000, 0.0000, 0.0000],\n",
      "         [0.0000, 0.0000, 0.0000, 0.5412, 0.9961, 0.9961, 0.9961, 0.9961,\n",
      "          0.9961, 0.9961, 0.9961, 0.9961, 0.9961, 0.9961, 0.9961, 0.9882,\n",
      "          0.8235, 0.4784, 0.1294, 0.0000, 0.0000, 0.0000, 0.0000, 0.0000,\n",
      "          0.0000, 0.0000, 0.0000, 0.0000],\n",
      "         [0.0000, 0.0000, 0.0000, 0.8627, 0.9961, 0.9961, 0.9961, 0.9216,\n",
      "          0.7412, 0.7412, 0.7412, 0.7412, 0.5882, 0.7412, 0.8039, 0.9961,\n",
      "          0.9961, 0.9961, 0.2941, 0.0000, 0.0000, 0.0000, 0.0000, 0.0000,\n",
      "          0.0000, 0.0000, 0.0000, 0.0000],\n",
      "         [0.0000, 0.0000, 0.0000, 0.1373, 0.2902, 0.1373, 0.1373, 0.0980,\n",
      "          0.0000, 0.0000, 0.0000, 0.0000, 0.0000, 0.0000, 0.0510, 0.8784,\n",
      "          0.9961, 0.9961, 0.6000, 0.0000, 0.0000, 0.0000, 0.0000, 0.0000,\n",
      "          0.0000, 0.0000, 0.0000, 0.0000],\n",
      "         [0.0000, 0.0000, 0.0000, 0.0000, 0.0000, 0.0000, 0.0000, 0.0000,\n",
      "          0.0000, 0.0000, 0.0000, 0.0000, 0.0000, 0.0000, 0.3529, 0.9961,\n",
      "          0.9961, 0.9686, 0.2078, 0.0000, 0.0000, 0.0000, 0.0000, 0.0000,\n",
      "          0.0000, 0.0000, 0.0000, 0.0000],\n",
      "         [0.0000, 0.0000, 0.0000, 0.0000, 0.0000, 0.0000, 0.0000, 0.0000,\n",
      "          0.0000, 0.0000, 0.0000, 0.0000, 0.0235, 0.5961, 0.9647, 0.9961,\n",
      "          0.9961, 0.1922, 0.0000, 0.0000, 0.0000, 0.0000, 0.0000, 0.0000,\n",
      "          0.0000, 0.0000, 0.0000, 0.0000],\n",
      "         [0.0000, 0.0000, 0.0000, 0.0000, 0.0000, 0.0000, 0.0000, 0.0000,\n",
      "          0.0000, 0.0000, 0.0000, 0.2588, 0.6196, 0.9961, 0.9961, 0.9765,\n",
      "          0.4039, 0.0314, 0.0000, 0.0000, 0.0000, 0.0000, 0.0000, 0.0000,\n",
      "          0.0000, 0.0000, 0.0000, 0.0000],\n",
      "         [0.0000, 0.0000, 0.0000, 0.0000, 0.0000, 0.0000, 0.0000, 0.0000,\n",
      "          0.0000, 0.0000, 0.2118, 0.9843, 0.9961, 0.9961, 0.9961, 0.9725,\n",
      "          0.2902, 0.0196, 0.0000, 0.0000, 0.0000, 0.0000, 0.0000, 0.0000,\n",
      "          0.0000, 0.0000, 0.0000, 0.0000],\n",
      "         [0.0000, 0.0000, 0.0000, 0.0000, 0.0000, 0.0000, 0.0000, 0.0000,\n",
      "          0.0000, 0.0000, 0.5490, 0.9961, 0.9961, 0.9961, 0.9961, 0.9961,\n",
      "          0.9961, 0.7922, 0.4902, 0.1765, 0.0000, 0.0000, 0.0000, 0.0000,\n",
      "          0.0000, 0.0000, 0.0000, 0.0000],\n",
      "         [0.0000, 0.0000, 0.0000, 0.0000, 0.0000, 0.0000, 0.0000, 0.0000,\n",
      "          0.0000, 0.0000, 0.2275, 0.7098, 0.9176, 0.9961, 0.9961, 0.9961,\n",
      "          0.9961, 0.9961, 0.9961, 0.9882, 0.5490, 0.0863, 0.0000, 0.0000,\n",
      "          0.0000, 0.0000, 0.0000, 0.0000],\n",
      "         [0.0000, 0.0000, 0.0000, 0.0000, 0.0000, 0.0000, 0.0000, 0.0000,\n",
      "          0.0000, 0.0000, 0.0000, 0.0000, 0.1176, 0.1961, 0.2863, 0.6078,\n",
      "          0.9922, 0.9961, 0.9961, 0.9961, 0.9961, 0.7490, 0.0078, 0.0000,\n",
      "          0.0000, 0.0000, 0.0000, 0.0000],\n",
      "         [0.0000, 0.0000, 0.0000, 0.0000, 0.0000, 0.0000, 0.0000, 0.0000,\n",
      "          0.0000, 0.0000, 0.0000, 0.0000, 0.0000, 0.0000, 0.0000, 0.0000,\n",
      "          0.3569, 0.7843, 0.9961, 0.9961, 0.9961, 0.9961, 0.4627, 0.0000,\n",
      "          0.0000, 0.0000, 0.0000, 0.0000],\n",
      "         [0.0000, 0.0000, 0.0000, 0.0000, 0.0000, 0.0000, 0.0000, 0.0000,\n",
      "          0.0000, 0.0000, 0.0000, 0.0000, 0.0000, 0.0000, 0.0000, 0.0000,\n",
      "          0.0000, 0.0157, 0.7529, 0.9961, 0.9961, 0.9961, 0.6039, 0.0000,\n",
      "          0.0000, 0.0000, 0.0000, 0.0000],\n",
      "         [0.0000, 0.0000, 0.0000, 0.0000, 0.0000, 0.0000, 0.0000, 0.0000,\n",
      "          0.0000, 0.0000, 0.0000, 0.0000, 0.0000, 0.0000, 0.0000, 0.0000,\n",
      "          0.0000, 0.0000, 0.5529, 0.9961, 0.9961, 0.9961, 0.4549, 0.0000,\n",
      "          0.0000, 0.0000, 0.0000, 0.0000],\n",
      "         [0.0000, 0.0000, 0.0000, 0.0000, 0.0000, 0.0000, 0.0000, 0.0000,\n",
      "          0.0980, 0.4941, 0.3373, 0.0000, 0.0000, 0.0000, 0.0000, 0.0000,\n",
      "          0.0000, 0.0118, 0.7373, 0.9961, 0.9961, 0.9804, 0.2392, 0.0000,\n",
      "          0.0000, 0.0000, 0.0000, 0.0000],\n",
      "         [0.0000, 0.0000, 0.0000, 0.0000, 0.0000, 0.0000, 0.0000, 0.0941,\n",
      "          0.8196, 0.9961, 0.0588, 0.0000, 0.0000, 0.0000, 0.0000, 0.0000,\n",
      "          0.0902, 0.5373, 0.9961, 0.9961, 0.9961, 0.8196, 0.0000, 0.0000,\n",
      "          0.0000, 0.0000, 0.0000, 0.0000],\n",
      "         [0.0000, 0.0000, 0.0000, 0.0000, 0.0000, 0.0000, 0.0000, 0.6588,\n",
      "          0.9961, 0.9961, 0.1882, 0.0353, 0.0000, 0.0000, 0.0353, 0.4980,\n",
      "          0.9451, 0.9961, 0.9961, 1.0000, 0.9490, 0.2471, 0.0000, 0.0000,\n",
      "          0.0000, 0.0000, 0.0000, 0.0000],\n",
      "         [0.0000, 0.0000, 0.0000, 0.0000, 0.0000, 0.0000, 0.0000, 0.3961,\n",
      "          0.9961, 0.9961, 0.9961, 0.8039, 0.7451, 0.7451, 0.8039, 0.9961,\n",
      "          0.9961, 0.9961, 0.9961, 0.9490, 0.2627, 0.0000, 0.0000, 0.0000,\n",
      "          0.0000, 0.0000, 0.0000, 0.0000],\n",
      "         [0.0000, 0.0000, 0.0000, 0.0000, 0.0000, 0.0000, 0.0000, 0.1294,\n",
      "          0.6510, 0.9961, 0.9961, 0.9961, 0.9961, 0.9961, 0.9961, 0.9961,\n",
      "          0.9961, 0.9804, 0.5412, 0.2157, 0.0000, 0.0000, 0.0000, 0.0000,\n",
      "          0.0000, 0.0000, 0.0000, 0.0000],\n",
      "         [0.0000, 0.0000, 0.0000, 0.0000, 0.0000, 0.0000, 0.0000, 0.0000,\n",
      "          0.0275, 0.3451, 0.6039, 0.4549, 0.7608, 0.7608, 0.6039, 0.6039,\n",
      "          0.3451, 0.1922, 0.0000, 0.0000, 0.0000, 0.0000, 0.0000, 0.0000,\n",
      "          0.0000, 0.0000, 0.0000, 0.0000],\n",
      "         [0.0000, 0.0000, 0.0000, 0.0000, 0.0000, 0.0000, 0.0000, 0.0000,\n",
      "          0.0000, 0.0000, 0.0000, 0.0000, 0.0000, 0.0000, 0.0000, 0.0000,\n",
      "          0.0000, 0.0000, 0.0000, 0.0000, 0.0000, 0.0000, 0.0000, 0.0000,\n",
      "          0.0000, 0.0000, 0.0000, 0.0000],\n",
      "         [0.0000, 0.0000, 0.0000, 0.0000, 0.0000, 0.0000, 0.0000, 0.0000,\n",
      "          0.0000, 0.0000, 0.0000, 0.0000, 0.0000, 0.0000, 0.0000, 0.0000,\n",
      "          0.0000, 0.0000, 0.0000, 0.0000, 0.0000, 0.0000, 0.0000, 0.0000,\n",
      "          0.0000, 0.0000, 0.0000, 0.0000],\n",
      "         [0.0000, 0.0000, 0.0000, 0.0000, 0.0000, 0.0000, 0.0000, 0.0000,\n",
      "          0.0000, 0.0000, 0.0000, 0.0000, 0.0000, 0.0000, 0.0000, 0.0000,\n",
      "          0.0000, 0.0000, 0.0000, 0.0000, 0.0000, 0.0000, 0.0000, 0.0000,\n",
      "          0.0000, 0.0000, 0.0000, 0.0000]]])\n"
     ]
    }
   ],
   "source": [
    "print(train[12][0])"
   ]
  },
  {
   "cell_type": "markdown",
   "id": "723c8c7f-756f-4111-a616-4a808b21b62b",
   "metadata": {},
   "source": [
    "### Building the Convolutional Model:"
   ]
  },
  {
   "cell_type": "code",
   "execution_count": 14,
   "id": "c6c6524a-1ef5-4fde-b056-2e1dc2222c4b",
   "metadata": {},
   "outputs": [],
   "source": [
    "class ConvNet(nn.Module):\n",
    "    def __init__(self):\n",
    "          super(ConvNet,self).__init__()\n",
    "    \n",
    "    def forward(self):\n",
    "        model=nn.Sequential(nn.Conv2d(1,10,5,padding=2),\n",
    "                      nn.ReLU(),\n",
    "                      nn.AvgPool2d(2,stride=2),\n",
    "                      \n",
    "                      nn.Conv2d(10,20,5,padding=0),\n",
    "                      nn.ReLU(),\n",
    "                      nn.AvgPool2d(2,stride=2),\n",
    "                      \n",
    "                      nn.Flatten(),\n",
    "                      nn.Linear(500,250),\n",
    "                      nn.ReLU(),\n",
    "                      nn.Linear(250,100),\n",
    "                      nn.ReLU(),\n",
    "                      nn.Linear(100,10)\n",
    "                     )\n",
    "        return model\n",
    "    \n",
    "    \n",
    "    def validate(self,model,data):\n",
    "          total=0\n",
    "          correct=0\n",
    "          for i,(images,labels) in enumerate(data):\n",
    "              x=model(images)\n",
    "              value,pred=torch.max(x,1)\n",
    "              total+=x.size(0)\n",
    "              correct+=torch.sum(pred==labels)\n",
    "    \n",
    "    \n",
    "          return correct/total"
   ]
  },
  {
   "cell_type": "markdown",
   "id": "248b4e21-6503-4ca0-ac04-c227932741c4",
   "metadata": {},
   "source": [
    "### Training the model:"
   ]
  },
  {
   "cell_type": "code",
   "execution_count": null,
   "id": "21fe036a-33d6-4f81-8af5-641899c1dd1a",
   "metadata": {},
   "outputs": [
    {
     "name": "stdout",
     "output_type": "stream",
     "text": [
      "0 tensor(0.9795)\n",
      "1 tensor(0.9839)\n",
      "2 tensor(0.9811)\n",
      "3 tensor(0.9817)\n",
      "4 tensor(0.9830)\n"
     ]
    }
   ],
   "source": [
    "device=torch.device(\"cpu\")\n",
    "epoch=10\n",
    "cnn_model=ConvNet()\n",
    "\n",
    "\n",
    "##Finally we will train our model.\n",
    "cnn=cnn_model.forward().to(device)\n",
    "cel=nn.CrossEntropyLoss()\n",
    "optimizer=optim.Adam(cnn.parameters(),lr=0.01)\n",
    "    \n",
    "for epoch in range(epoch):\n",
    "  for i,(images,labels) in enumerate(trainset):\n",
    "          images=images.to(device)\n",
    "          labels=labels.to(device)\n",
    "          optimizer.zero_grad()\n",
    "          pred=cnn(images)\n",
    "          loss=cel(pred,labels)\n",
    "          loss.backward()\n",
    "          optimizer.step()\n",
    "          \n",
    "  accuracy=cnn_model.validate(cnn,testset)\n",
    "  print(epoch,accuracy)"
   ]
  },
  {
   "cell_type": "markdown",
   "id": "bcca9692-5413-43c0-93d8-f2b040c2da94",
   "metadata": {},
   "source": [
    "### We have successfully implemented a CNN model and achieved remarkable accuracy. It was preprocessed data. Therefore we got such accuracy. However, in practical scenarios, we might not get such accuracy."
   ]
  },
  {
   "cell_type": "code",
   "execution_count": null,
   "id": "cb476cc2-288b-44cf-b624-13426d7ec21b",
   "metadata": {},
   "outputs": [],
   "source": []
  }
 ],
 "metadata": {
  "kernelspec": {
   "display_name": "Python 3 (ipykernel)",
   "language": "python",
   "name": "python3"
  },
  "language_info": {
   "codemirror_mode": {
    "name": "ipython",
    "version": 3
   },
   "file_extension": ".py",
   "mimetype": "text/x-python",
   "name": "python",
   "nbconvert_exporter": "python",
   "pygments_lexer": "ipython3",
   "version": "3.12.5"
  }
 },
 "nbformat": 4,
 "nbformat_minor": 5
}
