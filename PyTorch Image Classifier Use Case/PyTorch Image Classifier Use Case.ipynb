{
 "cells": [
  {
   "cell_type": "markdown",
   "id": "027338be-9997-49c8-8d80-6261fb67169c",
   "metadata": {},
   "source": [
    "# Building an Image Classifier Using PyTorch"
   ]
  },
  {
   "cell_type": "markdown",
   "id": "ab743a62-0bcb-40cc-89c3-174d0081287e",
   "metadata": {},
   "source": [
    "### Importing the required libraries:"
   ]
  },
  {
   "cell_type": "code",
   "execution_count": 1,
   "id": "9a3c25dc-5d5b-4f7a-aefd-f441b567fbd7",
   "metadata": {},
   "outputs": [],
   "source": [
    "import torch\n",
    "import torchvision\n",
    "import torch.nn as nn\n",
    "import torch.optim as optim\n",
    "from torchvision import transforms,datasets\n",
    "import torch.nn.functional as F\n",
    "import matplotlib\n",
    "import matplotlib.pyplot as plt"
   ]
  },
  {
   "cell_type": "markdown",
   "id": "959ea698-e897-4157-8333-708ba17befde",
   "metadata": {},
   "source": [
    "### Loading the data:"
   ]
  },
  {
   "cell_type": "code",
   "execution_count": 2,
   "id": "59ed9463-f5f6-4313-986a-a0ed17ec2c62",
   "metadata": {},
   "outputs": [
    {
     "name": "stdout",
     "output_type": "stream",
     "text": [
      "Downloading https://www.cs.toronto.edu/~kriz/cifar-10-python.tar.gz to ./data\\cifar-10-python.tar.gz\n"
     ]
    },
    {
     "name": "stderr",
     "output_type": "stream",
     "text": [
      "100%|███████████████████████████████████████████████████████████████████████████████| 170M/170M [04:29<00:00, 633kB/s]\n"
     ]
    },
    {
     "name": "stdout",
     "output_type": "stream",
     "text": [
      "Extracting ./data\\cifar-10-python.tar.gz to ./data\n",
      "Files already downloaded and verified\n"
     ]
    }
   ],
   "source": [
    "train=datasets.CIFAR10('./data', train=True,download=True,transform=transforms.Compose([transforms.ToTensor(),transforms.Normalize((0.5,0.5,0.5),(0.5,0.5,0.5))]))\n",
    "test=datasets.CIFAR10('./data', train=False,download=True,transform=transforms.Compose([transforms.ToTensor(),transforms.Normalize((0.5,0.5,0.5),(0.5,0.5,0.5))]))\n",
    "\n",
    "trainset=torch.utils.data.DataLoader(train,batch_size=2,shuffle=True,num_workers=2)\n",
    "testset=torch.utils.data.DataLoader(test,batch_size=2,shuffle=True,num_workers=2)"
   ]
  },
  {
   "cell_type": "markdown",
   "id": "7bf43483-38b2-4e14-ab23-291b0ea85fa3",
   "metadata": {},
   "source": [
    "### Playing around with the loaded data:"
   ]
  },
  {
   "cell_type": "code",
   "execution_count": 3,
   "id": "02355133-f6b1-4ab6-9801-2e06b35f096a",
   "metadata": {},
   "outputs": [
    {
     "name": "stdout",
     "output_type": "stream",
     "text": [
      "4\n",
      "7\n",
      "7\n",
      "2\n",
      "9\n"
     ]
    }
   ],
   "source": [
    "for i in range(5):\n",
    "    print(train[10+i][1])"
   ]
  },
  {
   "cell_type": "code",
   "execution_count": 15,
   "id": "c9aa1d15-0c70-4953-a738-bf180ef96ac2",
   "metadata": {},
   "outputs": [
    {
     "name": "stdout",
     "output_type": "stream",
     "text": [
      "tensor([[[-0.0118, -0.2000, -0.0824,  ..., -0.2471, -0.1137, -0.1608],\n",
      "         [ 0.0588, -0.1137, -0.0510,  ..., -0.0980, -0.1059, -0.0980],\n",
      "         [-0.0118, -0.0275,  0.0039,  ...,  0.0510, -0.0980, -0.1059],\n",
      "         ...,\n",
      "         [ 0.1059,  0.2157,  0.0510,  ...,  0.1686,  0.1529, -0.0431],\n",
      "         [ 0.2000,  0.2863,  0.1451,  ...,  0.2784,  0.4824,  0.4431],\n",
      "         [-0.0196,  0.0118, -0.0275,  ...,  0.0431,  0.4118,  0.3176]],\n",
      "\n",
      "        [[-0.2157, -0.4039, -0.2706,  ..., -0.4196, -0.2941, -0.3412],\n",
      "         [-0.1451, -0.3255, -0.2627,  ..., -0.3020, -0.3020, -0.2941],\n",
      "         [-0.2000, -0.2392, -0.2078,  ..., -0.1451, -0.2941, -0.2941],\n",
      "         ...,\n",
      "         [-0.1294, -0.0353, -0.2000,  ...,  0.0980,  0.0431, -0.1686],\n",
      "         [-0.0431,  0.0353, -0.0667,  ...,  0.2235,  0.3961,  0.3647],\n",
      "         [-0.2157, -0.1686, -0.2000,  ..., -0.0039,  0.3569,  0.2706]],\n",
      "\n",
      "        [[-0.4431, -0.6157, -0.5294,  ..., -0.6706, -0.5451, -0.5922],\n",
      "         [-0.4275, -0.5922, -0.5608,  ..., -0.5451, -0.5686, -0.5843],\n",
      "         [-0.5216, -0.5373, -0.5294,  ..., -0.3961, -0.5686, -0.6078],\n",
      "         ...,\n",
      "         [-0.3333, -0.3176, -0.4902,  ..., -0.0745, -0.0902, -0.2627],\n",
      "         [-0.3490, -0.3020, -0.3647,  ...,  0.1529,  0.3647,  0.3569],\n",
      "         [-0.5608, -0.4980, -0.4667,  ..., -0.0275,  0.3647,  0.2863]]])\n"
     ]
    }
   ],
   "source": [
    "print(train[23][0])"
   ]
  },
  {
   "cell_type": "markdown",
   "id": "efd8ba61-cb8b-46e1-a89c-1e3a8bfcf3d5",
   "metadata": {},
   "source": [
    "### Building the Convolutional Model:"
   ]
  },
  {
   "cell_type": "code",
   "execution_count": 21,
   "id": "f9ffb0e3-72b2-46fe-a6dd-310713109ad7",
   "metadata": {},
   "outputs": [],
   "source": [
    "class ConvNet(nn.Module):\n",
    "    def __init__(self):\n",
    "        super().__init__()\n",
    "        super().__init__()\n",
    "        self.conv1 = nn.Conv2d(3, 6, 5)\n",
    "        self.pool = nn.MaxPool2d(2, 2)\n",
    "        self.conv2 = nn.Conv2d(6, 16, 5)\n",
    "        self.fc1 = nn.Linear(16 * 5 * 5, 120)\n",
    "        self.fc2 = nn.Linear(120, 84)\n",
    "        self.fc3 = nn.Linear(84, 10)\n",
    "    def forward(self,x):\n",
    "        x = self.pool(F.relu(self.conv1(x)))\n",
    "        x = self.pool(F.relu(self.conv2(x)))\n",
    "        x = torch.flatten(x, 1) # flatten all dimensions except batch\n",
    "        x = F.relu(self.fc1(x))\n",
    "        x = F.relu(self.fc2(x))\n",
    "        x = self.fc3(x)\n",
    "        return x\n",
    "    \n",
    "    \n",
    "    def validate(self,model,data):\n",
    "        total=0\n",
    "        correct=0\n",
    "        for i,(images,labels) in enumerate(data):\n",
    "            x=model(images)\n",
    "            value,pred=torch.max(x,1)\n",
    "            total+=x.size(0)\n",
    "            correct+=torch.sum(pred==labels)\n",
    "    \n",
    "    \n",
    "        return correct/total"
   ]
  },
  {
   "cell_type": "markdown",
   "id": "4dbe4cc5-63dd-488c-9135-f04d9b85b21d",
   "metadata": {},
   "source": [
    "### Training the model:"
   ]
  },
  {
   "cell_type": "code",
   "execution_count": 23,
   "id": "c0934cb1-c85b-4bd8-9161-02497cb24ae9",
   "metadata": {},
   "outputs": [
    {
     "ename": "TypeError",
     "evalue": "ConvNet.forward() missing 1 required positional argument: 'x'",
     "output_type": "error",
     "traceback": [
      "\u001b[1;31m---------------------------------------------------------------------------\u001b[0m",
      "\u001b[1;31mTypeError\u001b[0m                                 Traceback (most recent call last)",
      "Cell \u001b[1;32mIn[23], line 7\u001b[0m\n\u001b[0;32m      3\u001b[0m cnn_model\u001b[38;5;241m=\u001b[39mConvNet()\n\u001b[0;32m      6\u001b[0m \u001b[38;5;66;03m#Finally we will train our model.\u001b[39;00m\n\u001b[1;32m----> 7\u001b[0m cnn\u001b[38;5;241m=\u001b[39m\u001b[43mcnn_model\u001b[49m\u001b[38;5;241;43m.\u001b[39;49m\u001b[43mforward\u001b[49m\u001b[43m(\u001b[49m\u001b[43m)\u001b[49m\u001b[38;5;241m.\u001b[39mto(device)\n\u001b[0;32m      8\u001b[0m cel\u001b[38;5;241m=\u001b[39mnn\u001b[38;5;241m.\u001b[39mCrossEntropyLoss()\n\u001b[0;32m      9\u001b[0m optimizer\u001b[38;5;241m=\u001b[39moptim\u001b[38;5;241m.\u001b[39mAdam(cnn\u001b[38;5;241m.\u001b[39mparameters(),lr\u001b[38;5;241m=\u001b[39m\u001b[38;5;241m0.00003\u001b[39m)\n",
      "\u001b[1;31mTypeError\u001b[0m: ConvNet.forward() missing 1 required positional argument: 'x'"
     ]
    }
   ],
   "source": [
    "device=torch.device(\"cpu\")\n",
    "epoch=50\n",
    "cnn_model=ConvNet()\n",
    "\n",
    "\n",
    "#Finally we will train our model.\n",
    "cnn=cnn_model.forward().to(device)\n",
    "cel=nn.CrossEntropyLoss()\n",
    "optimizer=optim.Adam(cnn.parameters(),lr=0.00003)\n",
    "    \n",
    "for epoch in range(epoch):\n",
    "    for i,(images,labels) in enumerate(trainset):\n",
    "          images=images.to(device)\n",
    "          labels=labels.to(device)\n",
    "          optimizer.zero_grad()\n",
    "          pred=cnn(images)\n",
    "          loss=cel(pred,labels)\n",
    "          loss.backward()\n",
    "          optimizer.step()\n",
    "          \n",
    "    accuracy=cnn_model.validate(cnn,testset)\n",
    "    print(epoch,accuracy)"
   ]
  },
  {
   "cell_type": "code",
   "execution_count": null,
   "id": "60176f7e-2ef0-4cb9-9667-4a11fa64bdf7",
   "metadata": {},
   "outputs": [],
   "source": []
  }
 ],
 "metadata": {
  "kernelspec": {
   "display_name": "Python 3 (ipykernel)",
   "language": "python",
   "name": "python3"
  },
  "language_info": {
   "codemirror_mode": {
    "name": "ipython",
    "version": 3
   },
   "file_extension": ".py",
   "mimetype": "text/x-python",
   "name": "python",
   "nbconvert_exporter": "python",
   "pygments_lexer": "ipython3",
   "version": "3.12.5"
  }
 },
 "nbformat": 4,
 "nbformat_minor": 5
}
